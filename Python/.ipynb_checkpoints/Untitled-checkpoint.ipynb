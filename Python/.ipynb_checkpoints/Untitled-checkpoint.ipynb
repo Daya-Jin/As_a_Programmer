{
 "cells": [
  {
   "cell_type": "code",
   "execution_count": 1,
   "metadata": {},
   "outputs": [
    {
     "name": "stdout",
     "output_type": "stream",
     "text": [
      "hello word!\n",
      "0.0\n",
      "hello word!\n",
      "0.0\n"
     ]
    }
   ],
   "source": [
    "import time\n",
    "\n",
    "def timer(func):\n",
    "    def dec():\n",
    "        tic=time.time()\n",
    "        func()\n",
    "        toc=time.time()\n",
    "        print(toc-tic)\n",
    "    return dec\n",
    "\n",
    "def func():\n",
    "    print('hello word!')\n",
    "\n",
    "# 调用方式1\n",
    "func_with_dec=timer(func)\n",
    "func_with_dec()\n",
    "\n",
    "# 调用方式2\n",
    "@timer\n",
    "def func():\n",
    "    print('hello word!')\n",
    "func()"
   ]
  },
  {
   "cell_type": "code",
   "execution_count": null,
   "metadata": {},
   "outputs": [],
   "source": []
  }
 ],
 "metadata": {
  "hide_input": false,
  "kernelspec": {
   "display_name": "Python 3",
   "language": "python",
   "name": "python3"
  },
  "language_info": {
   "codemirror_mode": {
    "name": "ipython",
    "version": 3
   },
   "file_extension": ".py",
   "mimetype": "text/x-python",
   "name": "python",
   "nbconvert_exporter": "python",
   "pygments_lexer": "ipython3",
   "version": "3.7.4"
  },
  "toc": {
   "base_numbering": 1,
   "nav_menu": {},
   "number_sections": true,
   "sideBar": true,
   "skip_h1_title": false,
   "title_cell": "Table of Contents",
   "title_sidebar": "Contents",
   "toc_cell": false,
   "toc_position": {},
   "toc_section_display": true,
   "toc_window_display": false
  }
 },
 "nbformat": 4,
 "nbformat_minor": 2
}
